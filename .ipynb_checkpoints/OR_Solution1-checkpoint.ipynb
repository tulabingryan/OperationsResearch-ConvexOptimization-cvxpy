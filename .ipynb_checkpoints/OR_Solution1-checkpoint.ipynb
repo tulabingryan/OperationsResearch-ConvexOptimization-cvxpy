{
 "cells": [
  {
   "cell_type": "markdown",
   "metadata": {},
   "source": [
    "## Problem\n",
    "\n",
    "The DMCI Construction Company obtains its rocks for constructions materials from two quarry pits,\n",
    "one in Surigao del Norte and one in Zamboanga del Norte. The rock is run through a crusher to \n",
    "produce two products: concrete grade stone and road surface chat. Each ton of rock from the \n",
    "Surigao pit converts into 0.75 tons of stone and 0.25 tons of chat, meanwhile, the Zamboanga pit \n",
    "produces a \"50-50\" split of stone and chat  due to difference in rock quality. The quarry has \n",
    "contracts for 60 tons of stone and 40 tons of chat during this planning period. The cost per ton \n",
    "of extracting and crushing rock from Surigao is 1.6 times as costly as from Zamboanga. Determine \n",
    "the optimal operation of DMCI for the two quarry pits.\n",
    "\n",
    "a. Determine the decision variables.\n",
    "\n",
    "Variables:\n",
    "\n",
    "    x = it is the value of the number of tons of rock from Surigao del Norte quarry pit\n",
    "    y = it is the value of the number of tons of rock from Zamboanga del Norte quarry pit\n",
    "    z = total combined cost of the quarry = 1.6*x + 1*y\n",
    "\n",
    "b. Determine the constraints\n",
    "\n",
    "    0.75*x+0.5*y==60, \n",
    "    0.25*x+0.5*y==40,\n",
    "    x>=0, y>0\n",
    "    \n",
    "c. Determine the objective function\n",
    "    \n",
    "    Minimize(z)\n",
    "\n",
    "\n",
    "d. Solve the problem using a computer. \n",
    "\n"
   ]
  },
  {
   "cell_type": "code",
   "execution_count": 1,
   "metadata": {},
   "outputs": [
    {
     "name": "stdout",
     "output_type": "stream",
     "text": [
      "Status: optimal\n",
      "Minimum cost of combined quary: 124.0\n",
      "Tons of rocks mined from Surigao: 40.0\n",
      "Tons of rocks mined from Zamboanga: 60.0\n",
      "Tons of stones:  59.99999999999999\n",
      "Tons of chats:  40.0\n"
     ]
    }
   ],
   "source": [
    "from cvxpy import *\n",
    "import numpy as np\n",
    "\n",
    "# Case1: Let the constraints be strict, i.e., there should be no excesses on tons of stones and chats produced\n",
    "\n",
    "x = Variable()\n",
    "y = Variable()\n",
    "z = 1.6*x + y\n",
    "\n",
    "objective = Minimize(z)\n",
    "constraints = [0.75*x+0.5*y == 60,\n",
    "               0.25*x+0.5*y == 40,\n",
    "               x >= 0, y >= 0]\n",
    "\n",
    "prob=Problem(objective, constraints)\n",
    "result=prob.solve()\n",
    "\n",
    "print('Status:' , prob.status)\n",
    "print('Minimum cost of combined quary:' , np.round(prob.value))\n",
    "print('Tons of rocks mined from Surigao:' , np.round(x.value))\n",
    "print('Tons of rocks mined from Zamboanga:' , np.round(y.value))\n",
    "print('Tons of stones: ', (0.75*x.value)+(0.5*y.value) )\n",
    "print('Tons of chats: ', (0.25*x.value)+(0.5*y.value) )"
   ]
  },
  {
   "cell_type": "code",
   "execution_count": 2,
   "metadata": {},
   "outputs": [
    {
     "name": "stdout",
     "output_type": "stream",
     "text": [
      "Status: optimal\n",
      "Minimum cost of combined quary: 120.0\n",
      "Tons of rocks mined from Surigao: 0.0\n",
      "Tons of rocks mined from Zamboanga: 120.0\n",
      "Tons of stones:  60.0\n",
      "Tons of chats:  60.0\n"
     ]
    }
   ],
   "source": [
    "from cvxpy import *\n",
    "import numpy as np\n",
    "\n",
    "\n",
    "# Case2: Let the constraints be open ended, i.e., there can be excesses on tons of stones and chats produced\n",
    "x = Variable()\n",
    "y = Variable()\n",
    "z = 1.6*x + y\n",
    "\n",
    "objective = Minimize(z)\n",
    "constraints = [0.75*x+0.5*y >= 60,\n",
    "               0.25*x+0.5*y >= 40,\n",
    "               x >= 0, y >= 0]\n",
    "\n",
    "prob=Problem(objective, constraints)\n",
    "result=prob.solve()\n",
    "\n",
    "print('Status:' , prob.status)\n",
    "print('Minimum cost of combined quary:' , np.round(prob.value))\n",
    "print('Tons of rocks mined from Surigao:' , np.round(x.value))\n",
    "print('Tons of rocks mined from Zamboanga:' , np.round(y.value))\n",
    "print('Tons of stones: ', np.round((0.75*x.value)+(0.5*y.value)))\n",
    "print('Tons of chats: ', np.round((0.25*x.value)+(0.5*y.value)))"
   ]
  },
  {
   "cell_type": "markdown",
   "metadata": {},
   "source": [
    "## Conclusion\n",
    "It is better for DMCI to mine 0 tons of rock from the Surigao pit and 120 tons of rock from the Zamboanga pit. This would minimize the total cost to 120 units and would produce an excess of 20 tons of chats which can be sold to another contract. This decision is still cheaper compared to producing and exact number of tons as demanded from the existing contract."
   ]
  }
 ],
 "metadata": {
  "anaconda-cloud": {},
  "kernelspec": {
   "display_name": "Python 3",
   "language": "python",
   "name": "python3"
  },
  "language_info": {
   "codemirror_mode": {
    "name": "ipython",
    "version": 3
   },
   "file_extension": ".py",
   "mimetype": "text/x-python",
   "name": "python",
   "nbconvert_exporter": "python",
   "pygments_lexer": "ipython3",
   "version": "3.6.5"
  }
 },
 "nbformat": 4,
 "nbformat_minor": 1
}
